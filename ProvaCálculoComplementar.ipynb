{
 "cells": [
  {
   "cell_type": "markdown",
   "metadata": {},
   "source": [
    "Acadêmico: Renan Groth Perszel\n"
   ]
  },
  {
   "cell_type": "markdown",
   "metadata": {},
   "source": [
    "Questão 1:\n",
    "\n",
    "f(x,y) = 1200x+ 500y+ (x**2) y – (x**3) – y\n",
    "onde x é o número de operários especializados e y o número de operários não especializados utilizados no trabalho. No momento, a mão de obra disponível é constituída por 30 operários especializados e 60\n",
    "operários não especializados. Use a análise marginal para estimar a variação da produção se mais 1 operário especializado for contratado e o número de operários não especializado permanecer constante.\n"
   ]
  },
  {
   "cell_type": "code",
   "execution_count": 3,
   "metadata": {},
   "outputs": [
    {
     "name": "stdout",
     "output_type": "stream",
     "text": [
      "Analise Marginal: 2100\n",
      "Taxa de Variação: 2069\n"
     ]
    }
   ],
   "source": [
    "import numpy as np\n",
    "import pylab as plt\n",
    "import sympy as sp\n",
    "\n",
    "x_symbol, y_symbol, z_symbol = sp.symbols('x y z')\n",
    "\n",
    "f = 1200*x_symbol + 500*y_symbol + (x_symbol**2)*y_symbol - (x_symbol**3) - y_symbol**2\n",
    "\n",
    "derivada = sp.diff(f,x_symbol)\n",
    "\n",
    "z = lambda x, y: eval(str(derivada))\n",
    "\n",
    "print('Analise Marginal:', z(30,60))\n",
    "\n",
    "fx = lambda x, y: 1200*x + 500*y + (x**2)*y - (x**3) - y**2\n",
    "\n",
    "print('Taxa de Variação:', fx(30+1, 60) - fx(30,60))\n"
   ]
  },
  {
   "cell_type": "markdown",
   "metadata": {},
   "source": [
    "Questão 2:\n",
    "\n",
    "Um empresário calcula que, quando xunidades de um certo produto são fabricadas, o lucro é dado por f(x) = - 400x2+ 6.800x-12.000 reais. Qual é a taxa de variação do lucro em relação ao nível de produção xquando estão sendo produzidas 9.000 unidades? Justifique a resposta.\n"
   ]
  },
  {
   "cell_type": "code",
   "execution_count": null,
   "metadata": {},
   "outputs": [],
   "source": [
    "import numpy as np\n",
    "import pylab as plt\n",
    "import sympy as sp\n",
    "x = sp.symbols('x')\n",
    "\n",
    "d = sp.diff(-(400*(x**2)) + (6800*x) - (12000), x)\n",
    "print(d)\n",
    "\n",
    "resp = 6800 - 800*(9) \n",
    "\n",
    "print(resp"
   ]
  },
  {
   "cell_type": "markdown",
   "metadata": {},
   "source": [
    "Questão 3\n",
    "\n",
    "ÁREA SUPERFICIAL DO CORPO HUMANO É dada pela expressão empírica S(W, H) = 0,0072W0,425 H 0,725 , onde W (Kg) e H(cm), são, respectivamente, o peso e a altura da pessoa. No momento, uma certa criança pesa 34Kg e tem 1m e 20cm de altura.\n",
    "• Determine os dados do problema.\n",
    "• Calcule as derivadas parciais Sw(50,163) e SH(50, 163) e interprete-as como taxas\n",
    "de variação.\n",
    "• Estime qual será a variação da área superficial se a criança engordar 1 Kg e altura\n",
    "permanecer inalterada. \n"
   ]
  },
  {
   "cell_type": "markdown",
   "metadata": {},
   "source": [
    "A: A criança pesa 34 kg A criança tem 1 m e 20 cm de altura. O objetivo do problema é estimar qual será a variação da área superficial se a criança engorda 1 kg e altura permanecer inalterada."
   ]
  },
  {
   "cell_type": "markdown",
   "metadata": {},
   "source": [
    "B:"
   ]
  },
  {
   "cell_type": "code",
   "execution_count": 4,
   "metadata": {},
   "outputs": [
    {
     "name": "stdout",
     "output_type": "stream",
     "text": [
      "0.012961333555455532\n",
      "0.006782365086759479\n"
     ]
    }
   ],
   "source": [
    "import numpy as np\n",
    "import pylab as plt\n",
    "\n",
    "fw = lambda w,h: (0.00306*w**(-0.575)) * h**0.725\n",
    "fh = lambda w,h: 0.00522*w**0.425 * h**(-0.275)\n",
    "\n",
    "print(fw(50,163))\n",
    "print(fh(50,163))"
   ]
  },
  {
   "cell_type": "markdown",
   "metadata": {},
   "source": [
    "C:"
   ]
  },
  {
   "cell_type": "code",
   "execution_count": 5,
   "metadata": {},
   "outputs": [
    {
     "name": "stdout",
     "output_type": "stream",
     "text": [
      "0.0004559273231530478\n"
     ]
    }
   ],
   "source": [
    "f1 = lambda w,h: (0.0072*w**0.425)*(h**0.725)\n",
    "\n",
    "print(f1(35,1.20)-f1(34,1.20))"
   ]
  }
 ],
 "metadata": {
  "kernelspec": {
   "display_name": "Python 3",
   "language": "python",
   "name": "python3"
  },
  "language_info": {
   "codemirror_mode": {
    "name": "ipython",
    "version": 3
   },
   "file_extension": ".py",
   "mimetype": "text/x-python",
   "name": "python",
   "nbconvert_exporter": "python",
   "pygments_lexer": "ipython3",
   "version": "3.6.8"
  }
 },
 "nbformat": 4,
 "nbformat_minor": 2
}
